{
  "nbformat": 4,
  "nbformat_minor": 0,
  "metadata": {
    "colab": {
      "name": "1BM18CS043 PROG.ipynb",
      "provenance": []
    },
    "kernelspec": {
      "name": "Python 3.9.0 64-bit",
      "display_name": "Python 3.9.0 64-bit",
      "metadata": {
        "interpreter": {
          "hash": "63fd5069d213b44bf678585dea6b12cceca9941eaf7f819626cde1f2670de90d"
        }
      }
    }
  },
  "cells": [
    {
      "cell_type": "code",
      "metadata": {
        "id": "SENYQ6CiirXR"
      },
      "source": [
        "def printSolution( sol ): \n",
        "    for i in sol: \n",
        "        for j in i: \n",
        "            print(str(j) + \" \", end =\"\") \n",
        "        print(\"\") "
      ],
      "execution_count": 1,
      "outputs": []
    },
    {
      "cell_type": "code",
      "metadata": {
        "id": "Wq9H8AQqitLn"
      },
      "source": [
        "def isSafe(maze, x, y, visited): \n",
        "    if x >= 0 and x < len(maze) and y >= 0 and y < len(maze[0]) and maze[x][y] == 1 and visited[x][y] != 1: \n",
        "        return True\n",
        "    return False"
      ],
      "execution_count": 2,
      "outputs": []
    },
    {
      "cell_type": "code",
      "metadata": {
        "id": "pWGfBmsLiw4R"
      },
      "source": [
        "def solveMaze(maze, goal): \n",
        "    sol = [ [ 0 for j in range(len(maze[0])) ] for i in range(len(maze)) ] \n",
        "    if solveMazeUtil(maze, 0, 0, sol, goal) == False: \n",
        "        print(\"Solution doesn't exist\"); \n",
        "        return False\n",
        "    printSolution(sol) \n",
        "    return True"
      ],
      "execution_count": 3,
      "outputs": []
    },
    {
      "cell_type": "code",
      "metadata": {
        "id": "7iQ9oH8ciyme"
      },
      "source": [
        "def euclid(loc, goal):\n",
        "    return ((loc[0]-goal[0])**2 + (loc[1]-goal[1])**2)**0.5"
      ],
      "execution_count": 4,
      "outputs": []
    },
    {
      "cell_type": "code",
      "metadata": {
        "id": "TRioGPXDi1oW",
        "outputId": "f974f430-0bc1-4ecd-b1f7-c111bfc437ab",
        "colab": {
          "base_uri": "https://localhost:8080/"
        }
      },
      "source": [
        "def solveMazeUtil(maze, x, y, sol, goal): \n",
        "    if x == goal[0] and y == goal[1] and maze[x][y]== 1: \n",
        "        sol[x][y] = 1\n",
        "        return True\n",
        "    if isSafe(maze, x, y, sol):\n",
        "        sol[x][y] = 1\n",
        "        temp = sol.copy()\n",
        "        directions = [(x+1,y),(x-1,y),(x,y+1),(x,y-1),(x+1,y-1),(x-1,y-1),(x+1,y+1),(x-1,y+1)]   \n",
        "        directions = [d for d in directions if isSafe(maze, d[0], d[1], sol)]\n",
        "        costs = [euclid(loc,goal) for loc in directions]\n",
        "        directions = [d for _, d in sorted(zip(costs,directions))]\n",
        "        for i in range(len(costs)):\n",
        "            if isSafe(maze, directions[i][0], directions[i][1], sol):\n",
        "                if solveMazeUtil(maze, directions[i][0], directions[i][1], sol, goal):\n",
        "                    return True\n",
        "        sol[x][y] = 0\n",
        "        return False\n",
        "  \n",
        "maze = [ [1, 0, 1, 1, 1], \n",
        "        [0, 1, 1, 1, 1], \n",
        "        [1, 1, 1, 1, 0], \n",
        "        [1, 1, 0, 0, 1],\n",
        "        [1, 0, 1, 1, 1] ] \n",
        "            \n",
        "solveMaze(maze, (4,2)) "
      ],
      "execution_count": 5,
      "outputs": [
        {
          "output_type": "stream",
          "name": "stdout",
          "text": [
            "1 0 0 0 0 \n0 1 0 0 0 \n0 0 1 0 0 \n0 1 0 0 0 \n0 0 1 0 0 \n"
          ]
        },
        {
          "output_type": "execute_result",
          "data": {
            "text/plain": [
              "True"
            ]
          },
          "metadata": {},
          "execution_count": 5
        }
      ]
    },
    {
      "cell_type": "code",
      "execution_count": null,
      "metadata": {},
      "outputs": [],
      "source": []
    }
  ]
}