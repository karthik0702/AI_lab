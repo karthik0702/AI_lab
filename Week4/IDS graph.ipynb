{
 "metadata": {
  "language_info": {
   "codemirror_mode": {
    "name": "ipython",
    "version": 3
   },
   "file_extension": ".py",
   "mimetype": "text/x-python",
   "name": "python",
   "nbconvert_exporter": "python",
   "pygments_lexer": "ipython3",
   "version": "3.9.0-final"
  },
  "orig_nbformat": 2,
  "kernelspec": {
   "name": "Python 3.9.0 64-bit",
   "display_name": "Python 3.9.0 64-bit",
   "metadata": {
    "interpreter": {
     "hash": "63fd5069d213b44bf678585dea6b12cceca9941eaf7f819626cde1f2670de90d"
    }
   }
  }
 },
 "nbformat": 4,
 "nbformat_minor": 2,
 "cells": [
  {
   "cell_type": "code",
   "execution_count": 1,
   "metadata": {},
   "outputs": [],
   "source": [
    "from collections import defaultdict"
   ]
  },
  {
   "cell_type": "code",
   "execution_count": 2,
   "metadata": {},
   "outputs": [],
   "source": [
    "class Graph:\n",
    "    def __init__(self, vertices):\n",
    "        self.V = vertices\n",
    "        self.graph = defaultdict(list)\n",
    "\n",
    "    def addEdge(self, u: int, v: int):\n",
    "        self.graph[u].append(v)\n",
    "\n",
    "    def DLS(self, src: int, target: int, limit: int):\n",
    "\n",
    "        if(src == target):\n",
    "            return True\n",
    "\n",
    "        if(limit <= 0):\n",
    "            return False\n",
    "\n",
    "        for i in self.graph[src]:\n",
    "            if(self.DLS(i, target, limit-1)):\n",
    "                return True\n",
    "\n",
    "        return False\n",
    "\n",
    "    def IDDFS(self, src: int, target: int, limit: int):\n",
    "        for i in range(limit):\n",
    "            if(self.DLS(src, target, i)):\n",
    "                return True\n",
    "        return False"
   ]
  },
  {
   "cell_type": "code",
   "execution_count": 3,
   "metadata": {},
   "outputs": [
    {
     "output_type": "stream",
     "name": "stdout",
     "text": [
      "Enter 4 edges\n"
     ]
    }
   ],
   "source": [
    "### Enter endges in the format <{u} {v}> where u is the starting vertice, and v is the ending vertice\n",
    "k = int(input(\"Enter the number of edges: \"))\n",
    "g = Graph(k)\n",
    "print(f'Enter {k} edges')\n",
    "for i in range((k)):\n",
    "    u, v = input(f'Edge {i} u and v: ').split()\n",
    "    g.addEdge(int(u), int(v))"
   ]
  },
  {
   "cell_type": "code",
   "execution_count": 4,
   "metadata": {},
   "outputs": [
    {
     "output_type": "stream",
     "name": "stdout",
     "text": [
      "Target is NOT reachable from source within max depth\n"
     ]
    }
   ],
   "source": [
    "while(True):\n",
    "    target, maxDepth, src = input(\n",
    "        \"Enter the Target, maxDepth & src \\n\").split()\n",
    "    if g.IDDFS(int(src), int(target), int(maxDepth)) == True:\n",
    "        print(\"Target is reachable from source \" +\n",
    "              \"within max depth\")\n",
    "    else:\n",
    "        print(\"Target is NOT reachable from source \" +\n",
    "              \"within max depth\")\n",
    "\n",
    "    cont = input(\"Test another vertice? (y / n) \")\n",
    "    if cont in ['n', 'N']:\n",
    "        break"
   ]
  },
  {
   "cell_type": "code",
   "execution_count": null,
   "metadata": {},
   "outputs": [],
   "source": []
  }
 ]
}