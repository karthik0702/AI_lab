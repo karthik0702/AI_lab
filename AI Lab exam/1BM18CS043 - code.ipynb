{
  "nbformat": 4,
  "nbformat_minor": 0,
  "metadata": {
    "colab": {
      "name": "Untitled0.ipynb",
      "provenance": []
    },
    "kernelspec": {
      "name": "python3",
      "display_name": "Python 3"
    }
  },
  "cells": [
    {
      "cell_type": "code",
      "metadata": {
        "id": "vH8Hz-kv1u-k"
      },
      "source": [
        "import re\r\n",
        "\r\n",
        "def isVariable(x):\r\n",
        "    return len(x) == 1 and x.islower()\r\n",
        "\r\n",
        "def getAttributes(string):\r\n",
        "    return re.findall('\\([^)]+\\)', string)\r\n",
        "\r\n",
        "def getPredicates(string):\r\n",
        "    return re.findall('([a-z~]+)\\([^&]+\\)', string)"
      ],
      "execution_count": 24,
      "outputs": []
    },
    {
      "cell_type": "code",
      "metadata": {
        "id": "idw-foWm1yF7"
      },
      "source": [
        "class Fact:\r\n",
        "    def __init__(self, expression):\r\n",
        "        self.expression = expression\r\n",
        "        predicate, params = self.splitExpression(expression)\r\n",
        "        self.predicate = predicate\r\n",
        "        self.params = params\r\n",
        "        self.result = any(self.getConstants())\r\n",
        "        \r\n",
        "    def splitExpression(self, expression):\r\n",
        "        predicate = getPredicates(expression)[0]\r\n",
        "        params = getAttributes(expression)[0].strip('()').split(',')\r\n",
        "        return [predicate, params]\r\n",
        "    \r\n",
        "    def getResult(self):\r\n",
        "        return self.result\r\n",
        "    \r\n",
        "    def getConstants(self):\r\n",
        "        return [None if isVariable(c) else c for c in self.params]\r\n",
        "    \r\n",
        "    def getVariables(self):\r\n",
        "        return [v if isVariable(v) else None for v in self.params]"
      ],
      "execution_count": 25,
      "outputs": []
    },
    {
      "cell_type": "code",
      "metadata": {
        "id": "arJ_A9Xp10E2"
      },
      "source": [
        "class Implication:\r\n",
        "    def __init__(self, expression):\r\n",
        "        self.expression = expression\r\n",
        "        l = expression.split('=>')\r\n",
        "        self.lhs = [Fact(f) for f in l[0].split('&')]\r\n",
        "        self.rhs = Fact(l[1])\r\n",
        "        \r\n",
        "    def evaluate(self, facts):\r\n",
        "        constants = {}\r\n",
        "        new_lhs = []\r\n",
        "        for fact in facts:\r\n",
        "            for val in self.lhs + [self.rhs]:\r\n",
        "                if val.predicate == fact.predicate:\r\n",
        "                    for i, v in enumerate(val.getVariables()):\r\n",
        "                        if v:\r\n",
        "                            constants[v] = fact.getConstants()[i]\r\n",
        "                    new_lhs.append(fact)\r\n",
        "        predicate, attributes = self.rhs.predicate, '('+','.join(self.rhs.params)+')'\r\n",
        "        for key in constants:\r\n",
        "            if constants[key]:\r\n",
        "                attributes = attributes.replace(key, constants[key])\r\n",
        "        expr = f'{predicate}{attributes}'\r\n",
        "        return Fact(expr) if len(new_lhs) and all([f.getResult() for f in new_lhs]) else None"
      ],
      "execution_count": 26,
      "outputs": []
    },
    {
      "cell_type": "code",
      "metadata": {
        "id": "LGBFDzsF12D6"
      },
      "source": [
        "class KB:\r\n",
        "    def __init__(self):\r\n",
        "        self.facts = set()\r\n",
        "        self.implications = set()\r\n",
        "            \r\n",
        "    def tell(self, e):\r\n",
        "        if '=>' in e:\r\n",
        "            self.implications.add(Implication(e))\r\n",
        "        else:\r\n",
        "            self.facts.add(Fact(e))\r\n",
        "        for i in self.implications:\r\n",
        "            res = i.evaluate(self.facts)\r\n",
        "            if res:\r\n",
        "                self.facts.add(res)\r\n",
        "\r\n",
        "    def query(self, e):\r\n",
        "        for i in self.implications:\r\n",
        "            res = i.evaluate(self.facts)\r\n",
        "            if res:\r\n",
        "                self.facts.add(res)\r\n",
        "        facts = set([f.expression for f in self.facts])\r\n",
        "        i = 1\r\n",
        "        print(f'Querying {e}:')\r\n",
        "        for f in facts:\r\n",
        "            if Fact(f).expression == Fact(e).expression:\r\n",
        "                print(f'The query {e} is satisfied.')\r\n",
        "                return\r\n",
        "        print(f'The query {e} is refuted.')\r\n",
        "    \r\n",
        "    def display(self):\r\n",
        "        for i in self.implications:\r\n",
        "            res = i.evaluate(self.facts)\r\n",
        "            if res:\r\n",
        "                self.facts.add(res)\r\n",
        "        print(\"All facts: \")\r\n",
        "        for i, f in enumerate(set([f.expression for f in self.facts])):\r\n",
        "            print(f'\\t{i+1}. {f}')"
      ],
      "execution_count": 27,
      "outputs": []
    },
    {
      "cell_type": "code",
      "metadata": {
        "colab": {
          "base_uri": "https://localhost:8080/"
        },
        "id": "VnwHn-iS156q",
        "outputId": "72acc786-979d-4fc8-af28-ef11e4b36005"
      },
      "source": [
        "kb = KB()\r\n",
        "kb.tell('food(x)=>likes(x,Rani)') \r\n",
        "kb.tell('food(Peanut)')\r\n",
        "kb.tell('~food(Mug)')\r\n",
        "\r\n",
        "\r\n",
        "kb.query('likes(Peanut,Rani)')      \r\n",
        "print()\r\n",
        "kb.display()"
      ],
      "execution_count": 28,
      "outputs": [
        {
          "output_type": "stream",
          "text": [
            "Querying likes(Peanut,Rani):\n",
            "The query likes(Peanut,Rani) is satisfied.\n",
            "\n",
            "All facts: \n",
            "\t1. ~food(Mug)\n",
            "\t2. food(Peanut)\n",
            "\t3. likes(Peanut,Rani)\n"
          ],
          "name": "stdout"
        }
      ]
    }
  ]
}