{
 "metadata": {
  "language_info": {
   "codemirror_mode": {
    "name": "ipython",
    "version": 3
   },
   "file_extension": ".py",
   "mimetype": "text/x-python",
   "name": "python",
   "nbconvert_exporter": "python",
   "pygments_lexer": "ipython3",
   "version": "3.9.0-final"
  },
  "orig_nbformat": 2,
  "kernelspec": {
   "name": "python3",
   "display_name": "Python 3.9.0 64-bit",
   "metadata": {
    "interpreter": {
     "hash": "63fd5069d213b44bf678585dea6b12cceca9941eaf7f819626cde1f2670de90d"
    }
   }
  }
 },
 "nbformat": 4,
 "nbformat_minor": 2,
 "cells": [
  {
   "cell_type": "code",
   "execution_count": 1,
   "metadata": {},
   "outputs": [],
   "source": [
    "def getAttributes(string):\n",
    "    expr = '\\([^)]+\\)'\n",
    "    matches = re.findall(expr, string)\n",
    "    return [m for m in str(matches) if m.isalpha()]\n",
    "\n",
    "def getPredicates(string):\n",
    "    expr = '[a-z~]+\\([A-Za-z,]+\\)'\n",
    "    return re.findall(expr, string)\n",
    "\n",
    "def DeMorgan(sentence):\n",
    "    string = ''.join(list(sentence).copy())\n",
    "    string = string.replace('~~','')\n",
    "    flag = '[' in string\n",
    "    string = string.replace('~[','')\n",
    "    string = string.strip(']')\n",
    "    for predicate in getPredicates(string):\n",
    "        string = string.replace(predicate, f'~{predicate}')\n",
    "    s = list(string)\n",
    "    for i, c in enumerate(string):\n",
    "        if c == '|':\n",
    "            s[i] = '&'\n",
    "        elif c == '&':\n",
    "            s[i] = '|'\n",
    "    string = ''.join(s)    \n",
    "    string = string.replace('~~','')\n",
    "    return f'[{string}]' if flag else string"
   ]
  },
  {
   "cell_type": "code",
   "execution_count": 2,
   "metadata": {},
   "outputs": [],
   "source": [
    "import re\n",
    "\n",
    "def fol_to_cnf(fol):\n",
    "    \n",
    "    statement = fol.replace(\"<=>\", \"_\")\n",
    "    while '_' in statement:\n",
    "        i = statement.index('_')\n",
    "        new_statement = '[' + statement[:i] + '=>' + statement[i+1:] + ']&['+ statement[i+1:] + '=>' + statement[:i] + ']'\n",
    "        statement = new_statement\n",
    "    statement = statement.replace(\"=>\", \"-\")\n",
    "    expr = '\\[([^]]+)\\]'\n",
    "    statements = re.findall(expr, statement)\n",
    "    for i, s in enumerate(statements):\n",
    "        if '[' in s and ']' not in s:\n",
    "            statements[i] += ']'\n",
    "    for s in statements:\n",
    "        statement = statement.replace(s, fol_to_cnf(s))\n",
    "    while '-' in statement:\n",
    "        i = statement.index('-')\n",
    "        br = statement.index('[') if '[' in statement else 0\n",
    "        new_statement = '~' + statement[br:i] + '|' + statement[i+1:]\n",
    "        statement = statement[:br] + new_statement if br > 0 else new_statement\n",
    "    while '~∀' in statement:\n",
    "        i = statement.index('~∀')\n",
    "        statement = list(statement)\n",
    "        statement[i], statement[i+1], statement[i+2] = '∃', statement[i+2], '~'\n",
    "        statement = ''.join(statement)\n",
    "    while '~∃' in statement:\n",
    "        i = statement.index('~∃')\n",
    "        s = list(statement)\n",
    "        s[i], s[i+1], s[i+2] = '∀', s[i+2], '~'\n",
    "        statement = ''.join(s)\n",
    "    statement = statement.replace('~[∀','[~∀')\n",
    "    statement = statement.replace('~[∃','[~∃')\n",
    "    expr = '(~[∀|∃].)'\n",
    "    statements = re.findall(expr, statement)\n",
    "    for s in statements:\n",
    "        statement = statement.replace(s, fol_to_cnf(s))\n",
    "    expr = '~\\[[^]]+\\]'\n",
    "    statements = re.findall(expr, statement)\n",
    "    for s in statements:\n",
    "        statement = statement.replace(s, DeMorgan(s))\n",
    "    return statement"
   ]
  },
  {
   "cell_type": "code",
   "execution_count": 3,
   "metadata": {},
   "outputs": [
    {
     "output_type": "stream",
     "name": "stdout",
     "text": [
      "[~american(x)|~weapon(y)|~sells(x,y,z)|~hostile(z)]|criminal(x)\n"
     ]
    }
   ],
   "source": [
    "print(fol_to_cnf(\"[american(x)&weapon(y)&sells(x,y,z)&hostile(z)]=>criminal(x)\"))"
   ]
  }
 ]
}